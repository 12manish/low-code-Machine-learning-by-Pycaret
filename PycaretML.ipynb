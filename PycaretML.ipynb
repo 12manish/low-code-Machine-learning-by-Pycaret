{
  "nbformat": 4,
  "nbformat_minor": 0,
  "metadata": {
    "colab": {
      "name": "PycaretML.ipynb",
      "provenance": [],
      "private_outputs": true
    },
    "kernelspec": {
      "name": "python3",
      "display_name": "Python 3"
    }
  },
  "cells": [
    {
      "cell_type": "code",
      "metadata": {
        "id": "gx3tfqjjVUK2",
        "colab_type": "code",
        "colab": {}
      },
      "source": [
        "#!pip install pycaret"
      ],
      "execution_count": 0,
      "outputs": []
    },
    {
      "cell_type": "markdown",
      "metadata": {
        "id": "NcpkvRUMWzvx",
        "colab_type": "text"
      },
      "source": [
        "#1. Getting Data\n",
        "In this step-by-step tutorial, we will use ‘diabetes’ dataset and the goal is to predict patient outcome (binary 1 or 0) based on several factors such as Blood Pressure, Insulin Level, Age etc. The dataset is available on PyCaret’s github repository. Easiest way to import dataset directly from repository is by using get_data function from pycaret.datasets modules."
      ]
    },
    {
      "cell_type": "code",
      "metadata": {
        "id": "jjPUyi9FWy3-",
        "colab_type": "code",
        "colab": {}
      },
      "source": [
        "from pycaret.datasets import get_data\n",
        "diabetes = get_data('diabetes')"
      ],
      "execution_count": 0,
      "outputs": []
    },
    {
      "cell_type": "markdown",
      "metadata": {
        "id": "Op5BQPoMXADm",
        "colab_type": "text"
      },
      "source": [
        "#2. Setting up Environment\n",
        "The first step of any machine learning experiment in PyCaret is setting up the environment by importing the required module and initializing setup( ). The module used in this example is pycaret.classification.\n",
        "Once the module is imported, setup() is initialized by defining the dataframe (‘diabetes’) and the target variable (‘Class variable’)."
      ]
    },
    {
      "cell_type": "code",
      "metadata": {
        "id": "1-Qz7rlUWy-8",
        "colab_type": "code",
        "colab": {}
      },
      "source": [
        "from pycaret.classification import *\n",
        "exp1 = setup(diabetes, target = 'Class variable')"
      ],
      "execution_count": 0,
      "outputs": []
    },
    {
      "cell_type": "markdown",
      "metadata": {
        "id": "9uBXbEBMXkrf",
        "colab_type": "text"
      },
      "source": [
        "All the preprocessing steps are applied within setup(). With over 20 features to prepare data for machine learning, PyCaret creates a transformation pipeline based on the parameters defined in setup function. It automatically orchestrates all dependencies in a pipeline so that you don’t have to manually manage the sequential execution of transformations on test or unseen dataset. PyCaret’s pipeline can easily be transferred across environments to run at scale or be deployed in production with ease. Below are preprocessing features available in PyCaret as of its first release.\n",
        "#image link:\n",
        "https://miro.medium.com/max/1400/1*jo9vPsQhQZmyXUhnrt9akQ.png"
      ]
    },
    {
      "cell_type": "markdown",
      "metadata": {
        "id": "8xpN7fUlYVku",
        "colab_type": "text"
      },
      "source": [
        "💡 Data Preprocessing steps that are compulsory for machine learning such as missing values imputation, categorical variable encoding, label encoding (converting yes or no into 1 or 0), and train-test-split are automatically performed when setup() is initialized. Click here https://pycaret.org/preprocessing/ to learn more about PyCaret’s preprocessing abilities."
      ]
    },
    {
      "cell_type": "markdown",
      "metadata": {
        "id": "V-c7PnA9Yj0u",
        "colab_type": "text"
      },
      "source": [
        "#3. Compare Models\n",
        "This is the first step recommended in supervised machine learning experiments (classification or regression). This function trains all the models in the model library and compares the common evaluation metrics using k-fold cross validation (by default 10 folds). The evaluation metrics used are:\n",
        "For Classification: Accuracy, AUC, Recall, Precision, F1, Kappa\n",
        "For Regression: MAE, MSE, RMSE, R2, RMSLE, MAPE"
      ]
    },
    {
      "cell_type": "code",
      "metadata": {
        "id": "IC4R6z71WzDA",
        "colab_type": "code",
        "colab": {}
      },
      "source": [
        "compare_models()"
      ],
      "execution_count": 0,
      "outputs": []
    },
    {
      "cell_type": "markdown",
      "metadata": {
        "id": "FqJnuCUoZYGp",
        "colab_type": "text"
      },
      "source": [
        "💡 Metrics are evaluated using 10-fold cross validation by default. It can be changed by changing the value of fold parameter.\n",
        "💡 Table is sorted by ‘Accuracy’ (Highest to Lowest) value by default. It can be changed by changing the value of sort parameter."
      ]
    },
    {
      "cell_type": "markdown",
      "metadata": {
        "id": "ZahMwlFIZfYa",
        "colab_type": "text"
      },
      "source": [
        "#4. Create Model\n",
        "Creating a model in any module of PyCaret is as simple as writing create_model. It takes only one parameter i.e. the model name passed as string input. This function returns a table with k-fold cross validated scores and a trained model object."
      ]
    },
    {
      "cell_type": "code",
      "metadata": {
        "id": "ixwPvSaoZhQQ",
        "colab_type": "code",
        "colab": {}
      },
      "source": [
        "adaboost = create_model('ada')"
      ],
      "execution_count": 0,
      "outputs": []
    },
    {
      "cell_type": "markdown",
      "metadata": {
        "id": "NpFslRmaZwAg",
        "colab_type": "text"
      },
      "source": [
        "Variable ‘adaboost’ stores a trained model object returned by create_model function is a scikit-learn estimator. Original attributes of a trained object can be accessed by using period ( . ) after variable. See example below."
      ]
    },
    {
      "cell_type": "markdown",
      "metadata": {
        "id": "6llUghedZ7if",
        "colab_type": "text"
      },
      "source": [
        "💡 PyCaret has over 60 open source ready-to-use algorithms. Click here https://pycaret.org/create-model/ to see a complete list of estimators / models available in PyCaret."
      ]
    },
    {
      "cell_type": "markdown",
      "metadata": {
        "id": "9EJNvZiGaUos",
        "colab_type": "text"
      },
      "source": [
        "#5. Tune Model\n",
        "The tune_model function is used for automatically tuning hyperparameters of a machine learning model. PyCaret uses random grid search over a predefined search space. This function returns a table with k-fold cross validated scores and a trained model object."
      ]
    },
    {
      "cell_type": "code",
      "metadata": {
        "id": "c0A3kALvaXEp",
        "colab_type": "code",
        "colab": {}
      },
      "source": [
        "tuned_adaboost = tune_model('ada')"
      ],
      "execution_count": 0,
      "outputs": []
    },
    {
      "cell_type": "markdown",
      "metadata": {
        "id": "-ZMd4xkLa3JV",
        "colab_type": "text"
      },
      "source": [
        "💡 The tune_model function in unsupervised modules such as pycaret.nlp, pycaret.clustering and pycaret.anomaly can be used in conjunction with supervised modules. For example, PyCaret’s NLP module can be used to tune number of topics parameter by evaluating an objective / cost function from a supervised ML model such as ‘Accuracy’ or ‘R2’."
      ]
    },
    {
      "cell_type": "markdown",
      "metadata": {
        "id": "j5O5_jOKbJTl",
        "colab_type": "text"
      },
      "source": [
        "#6. Ensemble Model\n",
        "The ensemble_model function is used for ensembling trained models. It takes only one parameter i.e. a trained model object. This functions returns a table with k-fold cross validated scores and a trained model object."
      ]
    },
    {
      "cell_type": "code",
      "metadata": {
        "id": "hxpWDCgwbK6l",
        "colab_type": "code",
        "colab": {}
      },
      "source": [
        "# creating a decision tree model\n",
        "dt = create_model('dt')\n",
        "# ensembling a trained dt model\n",
        "dt_bagged = ensemble_model(dt)"
      ],
      "execution_count": 0,
      "outputs": []
    },
    {
      "cell_type": "markdown",
      "metadata": {
        "id": "Ar9crdmzbgYg",
        "colab_type": "text"
      },
      "source": [
        "💡 ‘Bagging’ method is used for ensembling by default which can be changed to ‘Boosting’ by using the method parameter within the ensemble_model function.\n",
        "💡 PyCaret also provide blend_models and stack_models functionality to ensemble multiple trained models."
      ]
    },
    {
      "cell_type": "code",
      "metadata": {
        "id": "45WDFY6xbhh_",
        "colab_type": "code",
        "colab": {}
      },
      "source": [
        "# blending all models\n",
        "blend_all = blend_models()"
      ],
      "execution_count": 0,
      "outputs": []
    },
    {
      "cell_type": "code",
      "metadata": {
        "id": "JRNteEDnbIVM",
        "colab_type": "code",
        "colab": {}
      },
      "source": [
        "from pycaret.classification import *\n",
        "# create individual models for stacking\n",
        "ridge = create_model('ridge')\n",
        "lda = create_model('lda')\n",
        "gbc = create_model('gbc')\n",
        "xgboost = create_model('xgboost')\n",
        "# stacking models\n",
        "stacker = stack_models(estimator_list = [ridge,lda,gbc], meta_model = xgboost)"
      ],
      "execution_count": 0,
      "outputs": []
    },
    {
      "cell_type": "markdown",
      "metadata": {
        "id": "9JuC1ZsZcnEh",
        "colab_type": "text"
      },
      "source": [
        "#7. Plot Model\n",
        "Performance evaluation and diagnostics of a trained machine learning model can be done using the plot_model function. It takes a trained model object and the type of plot as a string input within the plot_model function."
      ]
    },
    {
      "cell_type": "code",
      "metadata": {
        "id": "slj_2BGqa4rs",
        "colab_type": "code",
        "colab": {}
      },
      "source": [
        "# create a model\n",
        "adaboost = create_model('ada')\n",
        "# AUC plot\n",
        "plot_model(adaboost, plot = 'auc')\n",
        "# Decision Boundary\n",
        "plot_model(adaboost, plot = 'boundary')\n",
        "# Precision Recall Curve\n",
        "plot_model(adaboost, plot = 'pr')\n",
        "# Validation Curve\n",
        "plot_model(adaboost, plot = 'vc')"
      ],
      "execution_count": 0,
      "outputs": []
    },
    {
      "cell_type": "markdown",
      "metadata": {
        "id": "U8awrIh5dAlO",
        "colab_type": "text"
      },
      "source": [
        "Click here https://pycaret.org/plot-model/ to learn more about different visualization in PyCaret.\n",
        "Alternatively, you can use evaluate_model function to see plots via user interface within notebook."
      ]
    },
    {
      "cell_type": "code",
      "metadata": {
        "id": "56LOCpkddFB8",
        "colab_type": "code",
        "colab": {}
      },
      "source": [
        "evaluate_model(adaboost)"
      ],
      "execution_count": 0,
      "outputs": []
    },
    {
      "cell_type": "markdown",
      "metadata": {
        "id": "Xv-LRVgRdcMt",
        "colab_type": "text"
      },
      "source": [
        "💡 plot_model function in pycaret.nlp module can be used to visualize text corpus and semantic topic models. Click here to learn more about it."
      ]
    },
    {
      "cell_type": "markdown",
      "metadata": {
        "id": "MX7p_IftdiS1",
        "colab_type": "text"
      },
      "source": [
        "#8. Interpret Model\n",
        "When the relationship in data is non-linear which is often the case in real life we invariably see tree-based models doing much better than simple gaussian models. However, this comes at the cost of losing interpretability as tree-based models do not provide simple coefficients like linear models. PyCaret implements SHAP (SHapley Additive exPlanations using interpret_model function."
      ]
    },
    {
      "cell_type": "code",
      "metadata": {
        "id": "0NrycLAIdk25",
        "colab_type": "code",
        "colab": {}
      },
      "source": [
        "# create a model\n",
        "xgboost = create_model('xgboost')\n",
        "# summary plot\n",
        "interpret_model(xgboost)\n"
      ],
      "execution_count": 0,
      "outputs": []
    },
    {
      "cell_type": "code",
      "metadata": {
        "id": "1Z57WUQpdtel",
        "colab_type": "code",
        "colab": {}
      },
      "source": [
        "# correlation plot\n",
        "interpret_model(xgboost, plot = 'correlation')"
      ],
      "execution_count": 0,
      "outputs": []
    },
    {
      "cell_type": "markdown",
      "metadata": {
        "id": "UYvJQclnd1bw",
        "colab_type": "text"
      },
      "source": [
        "Interpretation of a particular datapoint (also known as reason argument) in the test dataset can be evaluated using ‘reason’ plot. In the below example we are checking the first instance in our test dataset."
      ]
    },
    {
      "cell_type": "code",
      "metadata": {
        "id": "bglsLtGId51N",
        "colab_type": "code",
        "colab": {}
      },
      "source": [
        "interpret_model(xgboost, plot = 'reason', observation = 0) "
      ],
      "execution_count": 0,
      "outputs": []
    },
    {
      "cell_type": "markdown",
      "metadata": {
        "id": "QrGQliDEe79C",
        "colab_type": "text"
      },
      "source": [
        "#9. Predict Model\n",
        "So far the results we have seen are based on k-fold cross validation on training dataset only (70% by default). In order to see the predictions and performance of the model on the test / hold-out dataset, the predict_model function is used."
      ]
    },
    {
      "cell_type": "code",
      "metadata": {
        "id": "c6lZrazCe-YV",
        "colab_type": "code",
        "colab": {}
      },
      "source": [
        "# create a model\n",
        "rf = create_model('rf')\n"
      ],
      "execution_count": 0,
      "outputs": []
    },
    {
      "cell_type": "code",
      "metadata": {
        "id": "QmdQxruAdzpS",
        "colab_type": "code",
        "colab": {}
      },
      "source": [
        "# predict test / hold-out dataset\n",
        "rf_holdout_pred = predict_model(rf)"
      ],
      "execution_count": 0,
      "outputs": []
    },
    {
      "cell_type": "markdown",
      "metadata": {
        "id": "7trY6bplglm9",
        "colab_type": "text"
      },
      "source": [
        "predict_model function is also used to predict unseen dataset. For now, we will use the same dataset we have used for training as a proxy for new unseen dataset. In practice, predict_model function would be used iteratively, every time with a new unseen dataset."
      ]
    },
    {
      "cell_type": "code",
      "metadata": {
        "id": "YfRZOEzIgnlk",
        "colab_type": "code",
        "colab": {}
      },
      "source": [
        "predictions = predict_model(rf, data = diabetes)\n",
        "predictions"
      ],
      "execution_count": 0,
      "outputs": []
    },
    {
      "cell_type": "markdown",
      "metadata": {
        "id": "ydSxfYhYg7JV",
        "colab_type": "text"
      },
      "source": [
        "💡 predict_model function can also predict a sequential chain of models which are created using stack_models and create_stacknet function.\n",
        "💡 predict_model function can also predict directly from the model hosted on AWS S3 using deploy_model function."
      ]
    },
    {
      "cell_type": "markdown",
      "metadata": {
        "id": "tm7AQGSOhFSw",
        "colab_type": "text"
      },
      "source": [
        "#10. Deploy Model\n",
        "One way to utilize the trained models to generate predictions on an unseen dataset is by using the predict_model function in the same notebooks / IDE in which model was trained. However, making the prediction on an unseen dataset is an iterative process; depending on the use-case, the frequency of making predictions could be from real time predictions to batch predictions. PyCaret’s deploy_model function allows deploying the entire pipeline including trained model on cloud from notebook environment."
      ]
    },
    {
      "cell_type": "code",
      "metadata": {
        "id": "b1P5Fnk1h0gn",
        "colab_type": "code",
        "colab": {}
      },
      "source": [
        "deploy_model(model = rf, model_name = 'rf_aws', platform = 'aws', \n",
        "             authentication =  {'bucket'  : 'pycaret-test'})"
      ],
      "execution_count": 0,
      "outputs": []
    },
    {
      "cell_type": "markdown",
      "metadata": {
        "id": "lAqpZquEjrMC",
        "colab_type": "text"
      },
      "source": [
        "#11. Save Model / Save Experiment\n",
        "Once training is completed the entire pipeline containing all preprocessing transformations and trained model object can be saved as a binary pickle file."
      ]
    },
    {
      "cell_type": "code",
      "metadata": {
        "id": "HGq1TsXAjtc7",
        "colab_type": "code",
        "colab": {}
      },
      "source": [
        "# creating model\n",
        "adaboost = create_model('ada')\n",
        "# saving model\n",
        "save_model(adaboost, model_name = 'ada_for_deployment')"
      ],
      "execution_count": 0,
      "outputs": []
    },
    {
      "cell_type": "markdown",
      "metadata": {
        "id": "mqOkXjzyj8CH",
        "colab_type": "text"
      },
      "source": [
        "We can also save the entire experiment consisting of all intermediary outputs as one binary file."
      ]
    },
    {
      "cell_type": "code",
      "metadata": {
        "id": "qWHi3lUTj-rs",
        "colab_type": "code",
        "colab": {}
      },
      "source": [
        "save_experiment(experiment_name = 'my_first_experiment')"
      ],
      "execution_count": 0,
      "outputs": []
    },
    {
      "cell_type": "markdown",
      "metadata": {
        "id": "4U_LnE3DkJ3W",
        "colab_type": "text"
      },
      "source": [
        "💡 We can load saved model and saved experiment using load_model and load_experiment function available in all modules of PyCaret."
      ]
    },
    {
      "cell_type": "code",
      "metadata": {
        "id": "T_ijVjMyg6a0",
        "colab_type": "code",
        "colab": {}
      },
      "source": [
        ""
      ],
      "execution_count": 0,
      "outputs": []
    },
    {
      "cell_type": "code",
      "metadata": {
        "id": "o4PKxLDyaNvs",
        "colab_type": "code",
        "colab": {}
      },
      "source": [
        ""
      ],
      "execution_count": 0,
      "outputs": []
    },
    {
      "cell_type": "code",
      "metadata": {
        "id": "ax9HMH5TZyKN",
        "colab_type": "code",
        "colab": {}
      },
      "source": [
        ""
      ],
      "execution_count": 0,
      "outputs": []
    },
    {
      "cell_type": "code",
      "metadata": {
        "id": "_KHWHQcYZzJm",
        "colab_type": "code",
        "colab": {}
      },
      "source": [
        ""
      ],
      "execution_count": 0,
      "outputs": []
    },
    {
      "cell_type": "code",
      "metadata": {
        "id": "tlyN6UOaZzb7",
        "colab_type": "code",
        "colab": {}
      },
      "source": [
        ""
      ],
      "execution_count": 0,
      "outputs": []
    },
    {
      "cell_type": "code",
      "metadata": {
        "id": "4KuiLz--WzKM",
        "colab_type": "code",
        "colab": {}
      },
      "source": [
        ""
      ],
      "execution_count": 0,
      "outputs": []
    },
    {
      "cell_type": "code",
      "metadata": {
        "id": "S5yks1oAWzHi",
        "colab_type": "code",
        "colab": {}
      },
      "source": [
        ""
      ],
      "execution_count": 0,
      "outputs": []
    },
    {
      "cell_type": "code",
      "metadata": {
        "id": "FJNOQ0CrWy8l",
        "colab_type": "code",
        "colab": {}
      },
      "source": [
        ""
      ],
      "execution_count": 0,
      "outputs": []
    }
  ]
}